{
 "cells": [
  {
   "cell_type": "markdown",
   "metadata": {},
   "source": [
    "# Challenge 3"
   ]
  },
  {
   "cell_type": "markdown",
   "metadata": {},
   "source": [
    "You are presented with an integer number larger than 5. Your goal is to identify the longest side\n",
    "possible in a right triangle whose sides are not longer than the number you are given.\n",
    "\n",
    "For example, if you are given the number 15, there are 3 possibilities to compose right triangles:\n",
    "\n",
    "1. [3, 4, 5]\n",
    "2. [6, 8, 10]\n",
    "3. [5, 12, 13]\n",
    "\n",
    "The following function shows one way to solve the problem but the code is not ideal or efficient.\n",
    "Refactor the code based on what you have learned about code simplicity and efficiency."
   ]
  },
  {
   "cell_type": "code",
   "execution_count": null,
   "metadata": {},
   "outputs": [],
   "source": [
    "def find_triangle(input_len):\n",
    "    solutions = [5,4,3]\n",
    "    print(input_len, ' Top')\n",
    "    while solutions[0] < input_len or solutions[1] < input_len or solutions[2] < input_len:\n",
    "        solutions[2] += 1\n",
    "        if solutions[2] == input_len:\n",
    "            solutions[2] = 3 \n",
    "            solutions[1] += 1\n",
    "        elif solutions[1] == input_len:\n",
    "            solutions[1] = 3 \n",
    "            solutions[0] += 1\n",
    "        \n",
    "find_triangle(15)\n",
    "#X = input(\"What is the maximal length of the triangle side? Enter a number: \")\n",
    "#print(\"The longest side possible is \" + str(find_triangle(int(X))))"
   ]
  },
  {
   "cell_type": "code",
   "execution_count": null,
   "metadata": {
    "scrolled": false
   },
   "outputs": [],
   "source": [
    "def my_function(X):\n",
    "    solutions = []\n",
    "    for x in range(5, X):\n",
    "        #print(x, 'x')\n",
    "        for y in range(4, X):\n",
    "            #print(y, 'y')\n",
    "            for z in range(3, X):\n",
    "                print(x, y, z, 'Test Before')\n",
    "                \n",
    "                #print(x*x, y*y+z*z)\n",
    "                if (x*x==y*y+z*z):\n",
    "                    print(x, y, z, 'Test After')\n",
    "                    solutions.append([x, y, z])\n",
    "                    print(solutions)\n",
    "    m = 0\n",
    "    for solution in solutions:\n",
    "        if m < max(solution):\n",
    "            m = max(solution)\n",
    "    return m\n",
    "\n",
    "X = input(\"What is the maximal length of the triangle side? Enter a number: \")\n",
    "\n",
    "print(\"The longest side possible is \" + str(my_function(int(X))))"
   ]
  },
  {
   "cell_type": "code",
   "execution_count": null,
   "metadata": {},
   "outputs": [],
   "source": []
  }
 ],
 "metadata": {
  "kernelspec": {
   "display_name": "Python 3",
   "language": "python",
   "name": "python3"
  },
  "language_info": {
   "codemirror_mode": {
    "name": "ipython",
    "version": 3
   },
   "file_extension": ".py",
   "mimetype": "text/x-python",
   "name": "python",
   "nbconvert_exporter": "python",
   "pygments_lexer": "ipython3",
   "version": "3.7.3"
  }
 },
 "nbformat": 4,
 "nbformat_minor": 2
}
